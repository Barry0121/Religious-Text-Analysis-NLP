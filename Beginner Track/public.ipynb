{
 "metadata": {
  "language_info": {
   "codemirror_mode": {
    "name": "ipython",
    "version": 3
   },
   "file_extension": ".py",
   "mimetype": "text/x-python",
   "name": "python",
   "nbconvert_exporter": "python",
   "pygments_lexer": "ipython3",
   "version": "3.8.5-final"
  },
  "orig_nbformat": 2,
  "kernelspec": {
   "name": "python385jvsc74a57bd0ecf5722fdaf1897a315d257d89d94520bfcaa453217d5becf09b39e73618b0de",
   "display_name": "Python 3.8.5 64-bit (conda)"
  }
 },
 "nbformat": 4,
 "nbformat_minor": 2,
 "cells": [
  {
   "cell_type": "code",
   "execution_count": 2,
   "metadata": {},
   "outputs": [],
   "source": [
    "import pandas as pd \n",
    "import numpy as np \n",
    "import os"
   ]
  },
  {
   "source": [
    "Divide it into several dataframes by books"
   ],
   "cell_type": "markdown",
   "metadata": {}
  },
  {
   "cell_type": "code",
   "execution_count": 3,
   "metadata": {},
   "outputs": [],
   "source": [
    "train = pd.read_csv(\"Datasets\\Religious_text_train.csv\")\n",
    "chapters = np.array(train.iloc[:,0])\n",
    "words = np.array(train.columns)"
   ]
  },
  {
   "cell_type": "code",
   "execution_count": 4,
   "metadata": {},
   "outputs": [],
   "source": [
    "# book name changer \n",
    "# ex: Buddhism_Ch1\n",
    "train[['book', 'chapter']] = train.iloc[:,0].str.split('_',expand=True)\n",
    "train = train.drop(columns='Unnamed: 0')"
   ]
  },
  {
   "cell_type": "code",
   "execution_count": 5,
   "metadata": {},
   "outputs": [
    {
     "output_type": "execute_result",
     "data": {
      "text/plain": [
       "['Buddhism',\n",
       " 'TaoTeChing',\n",
       " 'Upanishad',\n",
       " 'YogaSutra',\n",
       " 'BookOfProverb',\n",
       " 'BookOfEcclesiastes',\n",
       " 'BookOfEccleasiasticus',\n",
       " 'BookOfWisdom']"
      ]
     },
     "metadata": {},
     "execution_count": 5
    }
   ],
   "source": [
    "book_names = list(train.book.unique())\n",
    "book_names"
   ]
  },
  {
   "cell_type": "code",
   "execution_count": 6,
   "metadata": {},
   "outputs": [],
   "source": [
    "books = dict()\n",
    "chapter_counts = dict()\n",
    "for book in book_names:\n",
    "    books[book] = train[train.book == book].drop(columns=['book'])\n",
    "    chapter_counts[book] = books[book].shape[0]"
   ]
  },
  {
   "cell_type": "code",
   "execution_count": 7,
   "metadata": {},
   "outputs": [
    {
     "output_type": "execute_result",
     "data": {
      "text/plain": [
       "(590, 8266)"
      ]
     },
     "metadata": {},
     "execution_count": 7
    }
   ],
   "source": [
    "# there should be 590 chapters, and 8264 words + 'book' and 'columns'\n",
    "train.shape"
   ]
  }
 ]
}