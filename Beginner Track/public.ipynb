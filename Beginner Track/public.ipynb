{
 "cells": [
  {
   "cell_type": "code",
   "execution_count": 1,
   "metadata": {},
   "outputs": [],
   "source": [
    "import pandas as pd \n",
    "import numpy as np \n",
    "import os\n",
    "import matplotlib.pyplot as plt\n",
    "import sweetviz as sv\n",
    "import seaborn as sns\n",
    "from textblob import TextBlob\n",
    "import math\n",
    "from sklearn.feature_extraction.text import TfidfVectorizer\n",
    "import csv"
   ]
  },
  {
   "source": [
    "# The All Nighter #\n",
    "## Beginner Track: Religious Text Analysis ##"
   ],
   "cell_type": "markdown",
   "metadata": {}
  },
  {
   "cell_type": "code",
   "execution_count": null,
   "metadata": {},
   "outputs": [],
   "source": []
  },
  {
   "source": [
    "### Introduction ###\n",
    "We are here to investigate 8 fundemental texts of the major religions around the world: Buddhism, Tao Te Ching, Yoga Sutra, Book Of Proverb, Book Of Ecclesiastes, Book Of Eccleasiasticus, Book Of Wisdom. \n",
    "#### Background Research on the Texts ####\n",
    "- **Yoga Sutra** <br>\n",
    "Country of Origin: India <br> \n",
    "Time Period Written: 500BC - 400AD <br>\n",
    "Attributed Writter: Patanjali <br>\n",
    "Associated Religion: Yoga <br>\n",
    "Key Themes: <br> \n",
    "1) Accepted as the most authoritative source on Yoga teaching. (Pramana) <br> \n",
    "2) Use of words or expressions that don't correspond to any actual physical reality but that are understood by most. (Metaphor) <br> \n",
    "\n",
    "- **Tao Te Ching** <br>\n",
    "Country of Origin: China <br>\n",
    "Time Period Written: ~400BC <br>\n",
    "Attributed Writter: Laozi <br> \n",
    "Associated Religion: Tao <br>\n",
    "Key Themes: <br>\n",
    "1) How to live in the world with good ness and integrity <br> \n",
    "2) Teaches self-reflection and self-awareness <br>\n",
    "\n",
    "- **Book of Eccleasiasticus (Sirach)** <br> \n",
    "Country of Origin: Israel (Jerusalem) <br>\n",
    "Time Period Written: ~200BC - 175BC <br>\n",
    "Attributed Writter: Ben Sira (Ecclesiasticus) <br>\n",
    "Associated Religion: Christianity (Catholicism) <br>\n",
    "Key Themes: <br>\n",
    "1) Praise of wisdom <br> \n",
    "2) Duties to God/friends/parents/others\n",
    "3) ruler of correct self conduct\n",
    "\n",
    "- **Upanishads** <br>\n",
    "Country of Origin: India <br>\n",
    "Time Period Written: ~800BC or later <br>\n",
    "Attributed Writter: Vyasa <br>\n",
    "Associated Religion: Hinduism <br>\n",
    "Key Themes: <br> \n",
    "1) Liberating the soul and returning to the world of Brahman <br> \n",
    "2) The fundemental concepts of Karma (Individual intents will endure condequences), Samsara (Reincarnation), Dharma (Duty), Moksha (Cycle of rebirth)\n",
    "\n",
    "- **'Buddhist' Text** <br> \n",
    "Country of Origin: India <br> \n",
    "Time Period Written: ~29 BC <br> \n",
    "Attributed Writter: Gautama Buddha (transcriber) <br>\n",
    "Associated Religion: Buddhism <br> \n",
    "Key Themes: <br> \n",
    "1) layout rules for nuns and monks <br> \n",
    "2) summary of teachings of the Buddha <br> \n",
    "3) collection of texts that give explanation to Buddhist doctrines about the mind <br> \n",
    "\n",
    "- **Proverbs** <br> \n",
    "Country of Origin: Israel <br> \n",
    "Time Period Written: 10-6BCE <br> \n",
    "Attributed Writter: King Solomon <br>\n",
    "Associated Religion: Judaism <br> \n",
    "Key Themes: <br>\n",
    "1) Part of the Christian Old Testament <br> \n",
    "2) Third section of the Hebrew Bible <br> \n",
    "\n",
    "- **Ecclesiastes** <br> \n",
    "Country of Origin: Israel <br> \n",
    "Time Period Written: 450-200CE <br> \n",
    "Attributed Writter: Qoheleth <br>\n",
    "Associated Religion: Judaism, Christianity <br> \n",
    "Key Themes: <br>\n",
    "1) Part of the Christian Old Testament <br> \n",
    "2) Refered by Catholic Church leader <br> \n",
    "\n",
    "- **Wisdom** <br> \n",
    "Country of Origin: Israel <br> \n",
    "Time Period Written: 1-2CE <br> \n",
    "Attributed Writter: King Solomon (?) <br>\n",
    "Associated Religion: Judaism, Christianity <br> \n",
    "Key Themes: <br>\n",
    "1) Part of the Christian Old Testament <br> \n"
   ],
   "cell_type": "markdown",
   "metadata": {}
  },
  {
   "source": [
    "** Purpose of the Investigation **\n",
    "- One of our goals is to extrapolate useful patterns or trends in the word composition of each text, and see if those patterns or trends can be linked to similarity in related cultural groups in the nearby region. \n",
    "- Another purpose is to extrapolate information about the nature of each relationship (either by itself or as a group) by comparing the composition of their vocabulory and made inferences. "
   ],
   "cell_type": "markdown",
   "metadata": {}
  },
  {
   "source": [
    "### Basic Data Exploration / Pre-Processing ###\n",
    "1. Get the data "
   ],
   "cell_type": "markdown",
   "metadata": {}
  },
  {
   "cell_type": "code",
   "execution_count": 3,
   "metadata": {},
   "outputs": [],
   "source": [
    "train = pd.read_csv(\"Datasets\\Religious_text_train.csv\")\n",
    "chapters = np.array(train.iloc[:,0])\n",
    "words = np.array(train.columns)"
   ]
  },
  {
   "cell_type": "code",
   "execution_count": 7,
   "metadata": {},
   "outputs": [
    {
     "data": {
      "text/plain": [
       "(590, 8266)"
      ]
     },
     "execution_count": 7,
     "metadata": {},
     "output_type": "execute_result"
    }
   ],
   "source": [
    "# there should be 590 chapters, and 8264 words + 'book' and 'columns'\n",
    "train.shape"
   ]
  },
  {
   "source": [
    "There are 8265 features ('words'), 590 chapters in total across 8 books. <br>\n",
    "\n",
    "2. The book names and chapters are boundled in one column, it is better to isolate them for easier operation later. "
   ],
   "cell_type": "markdown",
   "metadata": {}
  },
  {
   "cell_type": "code",
   "execution_count": 4,
   "metadata": {},
   "outputs": [],
   "source": [
    "# book name changer \n",
    "# ex: Buddhism_Ch1\n",
    "train[['book', 'chapter']] = train.iloc[:,0].str.split('_',expand=True)\n",
    "train = train.drop(columns='Unnamed: 0')"
   ]
  },
  {
   "source": [
    "3. Get the book names from the dataframe and store word table by books for later convinence"
   ],
   "cell_type": "markdown",
   "metadata": {}
  },
  {
   "cell_type": "code",
   "execution_count": 5,
   "metadata": {},
   "outputs": [
    {
     "data": {
      "text/plain": [
       "['Buddhism',\n",
       " 'TaoTeChing',\n",
       " 'Upanishad',\n",
       " 'YogaSutra',\n",
       " 'BookOfProverb',\n",
       " 'BookOfEcclesiastes',\n",
       " 'BookOfEccleasiasticus',\n",
       " 'BookOfWisdom']"
      ]
     },
     "execution_count": 5,
     "metadata": {},
     "output_type": "execute_result"
    }
   ],
   "source": [
    "book_names = list(train.book.unique())\n",
    "book_names"
   ]
  },
  {
   "cell_type": "code",
   "execution_count": 6,
   "metadata": {},
   "outputs": [],
   "source": [
    "books = dict()\n",
    "chapter_counts = dict()\n",
    "for book in book_names:\n",
    "    books[book] = train[train.book == book].drop(columns=['book'])\n",
    "    chapter_counts[book] = books[book].shape[0]"
   ]
  },
  {
   "source": [
    "### Visualizations / Analysis ###"
   ],
   "cell_type": "markdown",
   "metadata": {}
  },
  {
   "source": [
    "### Proposal ###\n",
    "\n",
    "Hypothesis: Similarity/Difference of texts from different religion is related to the geo-location.  "
   ],
   "cell_type": "markdown",
   "metadata": {}
  },
  {
   "cell_type": "code",
   "execution_count": null,
   "metadata": {},
   "outputs": [],
   "source": []
  },
  {
   "cell_type": "code",
   "execution_count": null,
   "metadata": {},
   "outputs": [],
   "source": []
  },
  {
   "source": [
    "### Conclucion ###"
   ],
   "cell_type": "markdown",
   "metadata": {}
  }
 ],
 "metadata": {
  "kernelspec": {
   "name": "python385jvsc74a57bd0ecf5722fdaf1897a315d257d89d94520bfcaa453217d5becf09b39e73618b0de",
   "display_name": "Python 3.8.5 64-bit (conda)"
  },
  "language_info": {
   "codemirror_mode": {
    "name": "ipython",
    "version": 3
   },
   "file_extension": ".py",
   "mimetype": "text/x-python",
   "name": "python",
   "nbconvert_exporter": "python",
   "pygments_lexer": "ipython3",
   "version": "3.8.5-final"
  }
 },
 "nbformat": 4,
 "nbformat_minor": 2
}