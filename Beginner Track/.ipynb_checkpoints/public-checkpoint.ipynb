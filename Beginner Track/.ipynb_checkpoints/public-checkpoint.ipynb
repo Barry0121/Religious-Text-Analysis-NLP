{
 "cells": [
  {
   "cell_type": "code",
   "execution_count": 2,
   "metadata": {},
   "outputs": [],
   "source": [
    "import pandas as pd \n",
    "import numpy as np \n",
    "import os"
   ]
  },
  {
   "cell_type": "markdown",
   "metadata": {},
   "source": [
    "Divide it into several dataframes by books"
   ]
  },
  {
   "cell_type": "code",
   "execution_count": 3,
   "metadata": {},
   "outputs": [],
   "source": [
    "train = pd.read_csv(\"Datasets\\Religious_text_train.csv\")\n",
    "chapters = np.array(train.iloc[:,0])\n",
    "words = np.array(train.columns)"
   ]
  },
  {
   "cell_type": "code",
   "execution_count": 4,
   "metadata": {},
   "outputs": [],
   "source": [
    "# book name changer \n",
    "# ex: Buddhism_Ch1\n",
    "train[['book', 'chapter']] = train.iloc[:,0].str.split('_',expand=True)\n",
    "train = train.drop(columns='Unnamed: 0')"
   ]
  },
  {
   "cell_type": "code",
   "execution_count": 5,
   "metadata": {},
   "outputs": [
    {
     "data": {
      "text/plain": [
       "['Buddhism',\n",
       " 'TaoTeChing',\n",
       " 'Upanishad',\n",
       " 'YogaSutra',\n",
       " 'BookOfProverb',\n",
       " 'BookOfEcclesiastes',\n",
       " 'BookOfEccleasiasticus',\n",
       " 'BookOfWisdom']"
      ]
     },
     "execution_count": 5,
     "metadata": {},
     "output_type": "execute_result"
    }
   ],
   "source": [
    "book_names = list(train.book.unique())\n",
    "book_names"
   ]
  },
  {
   "cell_type": "code",
   "execution_count": 6,
   "metadata": {},
   "outputs": [],
   "source": [
    "books = dict()\n",
    "chapter_counts = dict()\n",
    "for book in book_names:\n",
    "    books[book] = train[train.book == book].drop(columns=['book'])\n",
    "    chapter_counts[book] = books[book].shape[0]"
   ]
  },
  {
   "cell_type": "code",
   "execution_count": 7,
   "metadata": {},
   "outputs": [
    {
     "data": {
      "text/plain": [
       "(590, 8266)"
      ]
     },
     "execution_count": 7,
     "metadata": {},
     "output_type": "execute_result"
    }
   ],
   "source": [
    "# there should be 590 chapters, and 8264 words + 'book' and 'columns'\n",
    "train.shape"
   ]
  }
 ],
 "metadata": {
  "kernelspec": {
   "display_name": "Python 3",
   "language": "python",
   "name": "python3"
  },
  "language_info": {
   "codemirror_mode": {
    "name": "ipython",
    "version": 3
   },
   "file_extension": ".py",
   "mimetype": "text/x-python",
   "name": "python",
   "nbconvert_exporter": "python",
   "pygments_lexer": "ipython3",
   "version": "3.8.1"
  }
 },
 "nbformat": 4,
 "nbformat_minor": 2
}
