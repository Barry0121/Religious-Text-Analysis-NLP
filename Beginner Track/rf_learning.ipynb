{
 "cells": [
  {
   "cell_type": "code",
   "execution_count": 25,
   "id": "ec5d11d0",
   "metadata": {},
   "outputs": [],
   "source": [
    "import pandas as pd\n",
    "import numpy as np\n",
    "import matplotlib.pyplot as plt\n",
    "import sweetviz as sv\n",
    "import seaborn as sns\n",
    "from textblob import TextBlob\n",
    "import math\n",
    "from sklearn.feature_extraction.text import TfidfVectorizer"
   ]
  },
  {
   "cell_type": "code",
   "execution_count": 26,
   "id": "d677cbf7",
   "metadata": {},
   "outputs": [
    {
     "output_type": "stream",
     "name": "stderr",
     "text": [
      "[nltk_data] Downloading package averaged_perceptron_tagger to\n[nltk_data]     C:\\Users\\book2\\AppData\\Roaming\\nltk_data...\n[nltk_data]   Package averaged_perceptron_tagger is already up-to-\n[nltk_data]       date!\n[nltk_data] Downloading package brown to\n[nltk_data]     C:\\Users\\book2\\AppData\\Roaming\\nltk_data...\n[nltk_data]   Package brown is already up-to-date!\n"
     ]
    },
    {
     "output_type": "execute_result",
     "data": {
      "text/plain": [
       "True"
      ]
     },
     "metadata": {},
     "execution_count": 26
    }
   ],
   "source": [
    "import nltk\n",
    "nltk.download('averaged_perceptron_tagger')\n",
    "nltk.download('brown')"
   ]
  },
  {
   "cell_type": "code",
   "execution_count": 27,
   "id": "47f85cf7",
   "metadata": {},
   "outputs": [
    {
     "output_type": "execute_result",
     "data": {
      "text/plain": [
       "   foolishness  hath  wholesome  takest  feelings  anger  vaivaswata  matrix  \\\n",
       "0            0     0          0       0         0      0           0       0   \n",
       "1            0     0          0       0         0      0           0       0   \n",
       "2            0     0          0       0         0      0           0       0   \n",
       "3            0     0          0       0         0      0           0       0   \n",
       "4            0     0          0       0         0      0           0       0   \n",
       "\n",
       "   kindled  convict  ...  erred  thinkest  modern  reigned  sparingly  visual  \\\n",
       "0        0        0  ...      0         0       0        0          0       0   \n",
       "1        0        0  ...      0         0       0        0          0       0   \n",
       "2        0        0  ...      0         0       0        0          0       0   \n",
       "3        0        0  ...      0         0       0        0          0       0   \n",
       "4        0        0  ...      0         0       0        0          0       0   \n",
       "\n",
       "   thoughts  illumines  attire  explains  \n",
       "0         0          0       0         0  \n",
       "1         0          0       0         0  \n",
       "2         0          0       0         0  \n",
       "3         0          0       0         0  \n",
       "4         0          0       0         0  \n",
       "\n",
       "[5 rows x 8266 columns]"
      ],
      "text/html": "<div>\n<style scoped>\n    .dataframe tbody tr th:only-of-type {\n        vertical-align: middle;\n    }\n\n    .dataframe tbody tr th {\n        vertical-align: top;\n    }\n\n    .dataframe thead th {\n        text-align: right;\n    }\n</style>\n<table border=\"1\" class=\"dataframe\">\n  <thead>\n    <tr style=\"text-align: right;\">\n      <th></th>\n      <th>foolishness</th>\n      <th>hath</th>\n      <th>wholesome</th>\n      <th>takest</th>\n      <th>feelings</th>\n      <th>anger</th>\n      <th>vaivaswata</th>\n      <th>matrix</th>\n      <th>kindled</th>\n      <th>convict</th>\n      <th>...</th>\n      <th>erred</th>\n      <th>thinkest</th>\n      <th>modern</th>\n      <th>reigned</th>\n      <th>sparingly</th>\n      <th>visual</th>\n      <th>thoughts</th>\n      <th>illumines</th>\n      <th>attire</th>\n      <th>explains</th>\n    </tr>\n  </thead>\n  <tbody>\n    <tr>\n      <th>0</th>\n      <td>0</td>\n      <td>0</td>\n      <td>0</td>\n      <td>0</td>\n      <td>0</td>\n      <td>0</td>\n      <td>0</td>\n      <td>0</td>\n      <td>0</td>\n      <td>0</td>\n      <td>...</td>\n      <td>0</td>\n      <td>0</td>\n      <td>0</td>\n      <td>0</td>\n      <td>0</td>\n      <td>0</td>\n      <td>0</td>\n      <td>0</td>\n      <td>0</td>\n      <td>0</td>\n    </tr>\n    <tr>\n      <th>1</th>\n      <td>0</td>\n      <td>0</td>\n      <td>0</td>\n      <td>0</td>\n      <td>0</td>\n      <td>0</td>\n      <td>0</td>\n      <td>0</td>\n      <td>0</td>\n      <td>0</td>\n      <td>...</td>\n      <td>0</td>\n      <td>0</td>\n      <td>0</td>\n      <td>0</td>\n      <td>0</td>\n      <td>0</td>\n      <td>0</td>\n      <td>0</td>\n      <td>0</td>\n      <td>0</td>\n    </tr>\n    <tr>\n      <th>2</th>\n      <td>0</td>\n      <td>0</td>\n      <td>0</td>\n      <td>0</td>\n      <td>0</td>\n      <td>0</td>\n      <td>0</td>\n      <td>0</td>\n      <td>0</td>\n      <td>0</td>\n      <td>...</td>\n      <td>0</td>\n      <td>0</td>\n      <td>0</td>\n      <td>0</td>\n      <td>0</td>\n      <td>0</td>\n      <td>0</td>\n      <td>0</td>\n      <td>0</td>\n      <td>0</td>\n    </tr>\n    <tr>\n      <th>3</th>\n      <td>0</td>\n      <td>0</td>\n      <td>0</td>\n      <td>0</td>\n      <td>0</td>\n      <td>0</td>\n      <td>0</td>\n      <td>0</td>\n      <td>0</td>\n      <td>0</td>\n      <td>...</td>\n      <td>0</td>\n      <td>0</td>\n      <td>0</td>\n      <td>0</td>\n      <td>0</td>\n      <td>0</td>\n      <td>0</td>\n      <td>0</td>\n      <td>0</td>\n      <td>0</td>\n    </tr>\n    <tr>\n      <th>4</th>\n      <td>0</td>\n      <td>0</td>\n      <td>0</td>\n      <td>0</td>\n      <td>0</td>\n      <td>0</td>\n      <td>0</td>\n      <td>0</td>\n      <td>0</td>\n      <td>0</td>\n      <td>...</td>\n      <td>0</td>\n      <td>0</td>\n      <td>0</td>\n      <td>0</td>\n      <td>0</td>\n      <td>0</td>\n      <td>0</td>\n      <td>0</td>\n      <td>0</td>\n      <td>0</td>\n    </tr>\n  </tbody>\n</table>\n<p>5 rows × 8266 columns</p>\n</div>"
     },
     "metadata": {},
     "execution_count": 27
    }
   ],
   "source": [
    "test_data = pd.read_csv('Datasets\\Religious_text_test.csv')\n",
    "test_data = test_data.rename(columns={'# foolishness': 'foolishness'})\n",
    "test_data.head(5)"
   ]
  },
  {
   "cell_type": "code",
   "execution_count": 28,
   "id": "7d6d210f",
   "metadata": {},
   "outputs": [
    {
     "output_type": "execute_result",
     "data": {
      "text/plain": [
       "       Chapters  foolishness  hath  wholesome  takest  feelings  anger  \\\n",
       "0  Buddhism_Ch1            0     0          0       0         0      0   \n",
       "1  Buddhism_Ch2            0     0          0       0         0      0   \n",
       "2  Buddhism_Ch3            0     0          0       0         0      0   \n",
       "3  Buddhism_Ch4            0     0          0       0         0      0   \n",
       "4  Buddhism_Ch5            0     0          0       0         0      0   \n",
       "\n",
       "   vaivaswata  matrix  kindled  ...  erred  thinkest  modern  reigned  \\\n",
       "0           0       0        0  ...      0         0       0        0   \n",
       "1           0       0        0  ...      0         0       0        0   \n",
       "2           0       0        0  ...      0         0       0        0   \n",
       "3           0       0        0  ...      0         0       0        0   \n",
       "4           0       0        0  ...      0         0       0        0   \n",
       "\n",
       "   sparingly  visual  thoughts  illumines  attire  explains  \n",
       "0          0       0         0          0       0         0  \n",
       "1          0       0         0          0       0         0  \n",
       "2          0       0         0          0       0         0  \n",
       "3          0       0         0          0       0         0  \n",
       "4          0       0         0          0       0         0  \n",
       "\n",
       "[5 rows x 8267 columns]"
      ],
      "text/html": "<div>\n<style scoped>\n    .dataframe tbody tr th:only-of-type {\n        vertical-align: middle;\n    }\n\n    .dataframe tbody tr th {\n        vertical-align: top;\n    }\n\n    .dataframe thead th {\n        text-align: right;\n    }\n</style>\n<table border=\"1\" class=\"dataframe\">\n  <thead>\n    <tr style=\"text-align: right;\">\n      <th></th>\n      <th>Chapters</th>\n      <th>foolishness</th>\n      <th>hath</th>\n      <th>wholesome</th>\n      <th>takest</th>\n      <th>feelings</th>\n      <th>anger</th>\n      <th>vaivaswata</th>\n      <th>matrix</th>\n      <th>kindled</th>\n      <th>...</th>\n      <th>erred</th>\n      <th>thinkest</th>\n      <th>modern</th>\n      <th>reigned</th>\n      <th>sparingly</th>\n      <th>visual</th>\n      <th>thoughts</th>\n      <th>illumines</th>\n      <th>attire</th>\n      <th>explains</th>\n    </tr>\n  </thead>\n  <tbody>\n    <tr>\n      <th>0</th>\n      <td>Buddhism_Ch1</td>\n      <td>0</td>\n      <td>0</td>\n      <td>0</td>\n      <td>0</td>\n      <td>0</td>\n      <td>0</td>\n      <td>0</td>\n      <td>0</td>\n      <td>0</td>\n      <td>...</td>\n      <td>0</td>\n      <td>0</td>\n      <td>0</td>\n      <td>0</td>\n      <td>0</td>\n      <td>0</td>\n      <td>0</td>\n      <td>0</td>\n      <td>0</td>\n      <td>0</td>\n    </tr>\n    <tr>\n      <th>1</th>\n      <td>Buddhism_Ch2</td>\n      <td>0</td>\n      <td>0</td>\n      <td>0</td>\n      <td>0</td>\n      <td>0</td>\n      <td>0</td>\n      <td>0</td>\n      <td>0</td>\n      <td>0</td>\n      <td>...</td>\n      <td>0</td>\n      <td>0</td>\n      <td>0</td>\n      <td>0</td>\n      <td>0</td>\n      <td>0</td>\n      <td>0</td>\n      <td>0</td>\n      <td>0</td>\n      <td>0</td>\n    </tr>\n    <tr>\n      <th>2</th>\n      <td>Buddhism_Ch3</td>\n      <td>0</td>\n      <td>0</td>\n      <td>0</td>\n      <td>0</td>\n      <td>0</td>\n      <td>0</td>\n      <td>0</td>\n      <td>0</td>\n      <td>0</td>\n      <td>...</td>\n      <td>0</td>\n      <td>0</td>\n      <td>0</td>\n      <td>0</td>\n      <td>0</td>\n      <td>0</td>\n      <td>0</td>\n      <td>0</td>\n      <td>0</td>\n      <td>0</td>\n    </tr>\n    <tr>\n      <th>3</th>\n      <td>Buddhism_Ch4</td>\n      <td>0</td>\n      <td>0</td>\n      <td>0</td>\n      <td>0</td>\n      <td>0</td>\n      <td>0</td>\n      <td>0</td>\n      <td>0</td>\n      <td>0</td>\n      <td>...</td>\n      <td>0</td>\n      <td>0</td>\n      <td>0</td>\n      <td>0</td>\n      <td>0</td>\n      <td>0</td>\n      <td>0</td>\n      <td>0</td>\n      <td>0</td>\n      <td>0</td>\n    </tr>\n    <tr>\n      <th>4</th>\n      <td>Buddhism_Ch5</td>\n      <td>0</td>\n      <td>0</td>\n      <td>0</td>\n      <td>0</td>\n      <td>0</td>\n      <td>0</td>\n      <td>0</td>\n      <td>0</td>\n      <td>0</td>\n      <td>...</td>\n      <td>0</td>\n      <td>0</td>\n      <td>0</td>\n      <td>0</td>\n      <td>0</td>\n      <td>0</td>\n      <td>0</td>\n      <td>0</td>\n      <td>0</td>\n      <td>0</td>\n    </tr>\n  </tbody>\n</table>\n<p>5 rows × 8267 columns</p>\n</div>"
     },
     "metadata": {},
     "execution_count": 28
    }
   ],
   "source": [
    "train_data = pd.read_csv('Datasets\\Religious_text_train.csv')\n",
    "train_data = train_data.rename(columns={'Unnamed: 0': 'Chapters'})\n",
    "train_data.head(5)"
   ]
  },
  {
   "cell_type": "markdown",
   "id": "9b8e43ca",
   "metadata": {},
   "source": [
    "#### Training Data Split By Book (with Columns Maintained)"
   ]
  },
  {
   "cell_type": "code",
   "execution_count": 29,
   "id": "3a3cd239",
   "metadata": {},
   "outputs": [],
   "source": [
    "buddhism = train_data[train_data['Chapters'].str.contains('Buddhism')]\n",
    "tao_te_ching = train_data[train_data['Chapters'].str.contains('TaoTeChing')]\n",
    "upanishad = train_data[train_data['Chapters'].str.contains('Upanishad')]\n",
    "yoga_sutra = train_data[train_data['Chapters'].str.contains('YogaSutra')]\n",
    "book_proverb = train_data[train_data['Chapters'].str.contains('Proverb')]\n",
    "book_of_ecclesiastes = train_data[train_data['Chapters'].str.contains('Ecclesiastes')]\n",
    "book_of_eccleasiasticus = train_data[train_data['Chapters'].str.contains('Eccleasiasticus')]\n",
    "book_of_wisdom = train_data[train_data['Chapters'].str.contains('Wisdom')]\n"
   ]
  },
  {
   "cell_type": "code",
   "execution_count": 30,
   "id": "aa12970d",
   "metadata": {},
   "outputs": [],
   "source": [
    "def find_top_words(df:pd.DataFrame, count: int) -> pd.DataFrame:\n",
    "    \"\"\" Given data frame find the {count} most common words (column values)\"\"\"\n",
    "    df = df.sum(axis=0).drop('Chapters').squeeze()\n",
    "    df = pd.DataFrame({'count': df})\n",
    "    return df.sort_values(by='count', ascending=False).head(count)"
   ]
  },
  {
   "cell_type": "markdown",
   "id": "9cc13be0",
   "metadata": {},
   "source": [
    "#### Training Data Split By Book Aggregated"
   ]
  },
  {
   "cell_type": "code",
   "execution_count": 31,
   "id": "85eb29d8",
   "metadata": {},
   "outputs": [],
   "source": [
    "book_names = ['Buddhism', 'TaoTeChing', 'Upanishad', 'YogaSutra', 'Proverb', 'Ecclesiastes', 'Eccleasiasticus', 'Wisdom']\n",
    "book_dfs = [buddhism,tao_te_ching, upanishad, yoga_sutra, book_proverb, book_of_ecclesiastes, book_of_eccleasiasticus, book_of_wisdom]\n",
    "dataframes = dict(zip(book_names, book_dfs))"
   ]
  },
  {
   "cell_type": "code",
   "execution_count": 32,
   "id": "a327eb2f",
   "metadata": {},
   "outputs": [
    {
     "output_type": "execute_result",
     "data": {
      "text/plain": [
       "                 foolishness  hath  wholesome  takest  feelings  anger  \\\n",
       "Books                                                                    \n",
       "Buddhism                   0     0          0       0        19      0   \n",
       "Eccleasiasticus            0   189          3       1         0     14   \n",
       "Ecclesiastes               0    46          0       0         0      5   \n",
       "Proverb                    2    65          0       0         0     11   \n",
       "TaoTeChing                 0     0          0       0         0      1   \n",
       "\n",
       "                 vaivaswata  matrix  kindled  convict  ...  erred  thinkest  \\\n",
       "Books                                                  ...                    \n",
       "Buddhism                  0       0        0        0  ...      0         0   \n",
       "Eccleasiasticus           0       0        3        0  ...      0         0   \n",
       "Ecclesiastes              0       0        0        0  ...      0         1   \n",
       "Proverb                   0       0        0        0  ...      0         0   \n",
       "TaoTeChing                0       0        0        0  ...      0         0   \n",
       "\n",
       "                 modern  reigned  sparingly  visual  thoughts  illumines  \\\n",
       "Books                                                                      \n",
       "Buddhism              0        0          0       0         9          0   \n",
       "Eccleasiasticus       0        1          1       0         7          0   \n",
       "Ecclesiastes          0        0          0       0         0          0   \n",
       "Proverb               0        0          0       0         8          0   \n",
       "TaoTeChing            0        0          0       0         0          0   \n",
       "\n",
       "                 attire  explains  \n",
       "Books                              \n",
       "Buddhism              0         0  \n",
       "Eccleasiasticus       2         0  \n",
       "Ecclesiastes          0         0  \n",
       "Proverb               1         0  \n",
       "TaoTeChing            0         0  \n",
       "\n",
       "[5 rows x 8266 columns]"
      ],
      "text/html": "<div>\n<style scoped>\n    .dataframe tbody tr th:only-of-type {\n        vertical-align: middle;\n    }\n\n    .dataframe tbody tr th {\n        vertical-align: top;\n    }\n\n    .dataframe thead th {\n        text-align: right;\n    }\n</style>\n<table border=\"1\" class=\"dataframe\">\n  <thead>\n    <tr style=\"text-align: right;\">\n      <th></th>\n      <th>foolishness</th>\n      <th>hath</th>\n      <th>wholesome</th>\n      <th>takest</th>\n      <th>feelings</th>\n      <th>anger</th>\n      <th>vaivaswata</th>\n      <th>matrix</th>\n      <th>kindled</th>\n      <th>convict</th>\n      <th>...</th>\n      <th>erred</th>\n      <th>thinkest</th>\n      <th>modern</th>\n      <th>reigned</th>\n      <th>sparingly</th>\n      <th>visual</th>\n      <th>thoughts</th>\n      <th>illumines</th>\n      <th>attire</th>\n      <th>explains</th>\n    </tr>\n    <tr>\n      <th>Books</th>\n      <th></th>\n      <th></th>\n      <th></th>\n      <th></th>\n      <th></th>\n      <th></th>\n      <th></th>\n      <th></th>\n      <th></th>\n      <th></th>\n      <th></th>\n      <th></th>\n      <th></th>\n      <th></th>\n      <th></th>\n      <th></th>\n      <th></th>\n      <th></th>\n      <th></th>\n      <th></th>\n      <th></th>\n    </tr>\n  </thead>\n  <tbody>\n    <tr>\n      <th>Buddhism</th>\n      <td>0</td>\n      <td>0</td>\n      <td>0</td>\n      <td>0</td>\n      <td>19</td>\n      <td>0</td>\n      <td>0</td>\n      <td>0</td>\n      <td>0</td>\n      <td>0</td>\n      <td>...</td>\n      <td>0</td>\n      <td>0</td>\n      <td>0</td>\n      <td>0</td>\n      <td>0</td>\n      <td>0</td>\n      <td>9</td>\n      <td>0</td>\n      <td>0</td>\n      <td>0</td>\n    </tr>\n    <tr>\n      <th>Eccleasiasticus</th>\n      <td>0</td>\n      <td>189</td>\n      <td>3</td>\n      <td>1</td>\n      <td>0</td>\n      <td>14</td>\n      <td>0</td>\n      <td>0</td>\n      <td>3</td>\n      <td>0</td>\n      <td>...</td>\n      <td>0</td>\n      <td>0</td>\n      <td>0</td>\n      <td>1</td>\n      <td>1</td>\n      <td>0</td>\n      <td>7</td>\n      <td>0</td>\n      <td>2</td>\n      <td>0</td>\n    </tr>\n    <tr>\n      <th>Ecclesiastes</th>\n      <td>0</td>\n      <td>46</td>\n      <td>0</td>\n      <td>0</td>\n      <td>0</td>\n      <td>5</td>\n      <td>0</td>\n      <td>0</td>\n      <td>0</td>\n      <td>0</td>\n      <td>...</td>\n      <td>0</td>\n      <td>1</td>\n      <td>0</td>\n      <td>0</td>\n      <td>0</td>\n      <td>0</td>\n      <td>0</td>\n      <td>0</td>\n      <td>0</td>\n      <td>0</td>\n    </tr>\n    <tr>\n      <th>Proverb</th>\n      <td>2</td>\n      <td>65</td>\n      <td>0</td>\n      <td>0</td>\n      <td>0</td>\n      <td>11</td>\n      <td>0</td>\n      <td>0</td>\n      <td>0</td>\n      <td>0</td>\n      <td>...</td>\n      <td>0</td>\n      <td>0</td>\n      <td>0</td>\n      <td>0</td>\n      <td>0</td>\n      <td>0</td>\n      <td>8</td>\n      <td>0</td>\n      <td>1</td>\n      <td>0</td>\n    </tr>\n    <tr>\n      <th>TaoTeChing</th>\n      <td>0</td>\n      <td>0</td>\n      <td>0</td>\n      <td>0</td>\n      <td>0</td>\n      <td>1</td>\n      <td>0</td>\n      <td>0</td>\n      <td>0</td>\n      <td>0</td>\n      <td>...</td>\n      <td>0</td>\n      <td>0</td>\n      <td>0</td>\n      <td>0</td>\n      <td>0</td>\n      <td>0</td>\n      <td>0</td>\n      <td>0</td>\n      <td>0</td>\n      <td>0</td>\n    </tr>\n  </tbody>\n</table>\n<p>5 rows × 8266 columns</p>\n</div>"
     },
     "metadata": {},
     "execution_count": 32
    }
   ],
   "source": [
    "pat = '|'.join(book_names)\n",
    "by_book = train_data['Chapters'].str.extract('(' + pat + ')', expand = False)\n",
    "books = train_data.groupby(by_book).sum().reset_index().rename(columns={'Chapters':'Books'}).set_index('Books')\n",
    "books.head(5)"
   ]
  },
  {
   "cell_type": "code",
   "execution_count": 33,
   "id": "9e0ddcfa",
   "metadata": {},
   "outputs": [],
   "source": [
    "def get_text_blob(df:pd.DataFrame) -> TextBlob:\n",
    "    \"\"\" Given a dataframe, creates a text blob of its columns\"\"\"\n",
    "    df = df.loc[:, (df != 0).any(axis=0)]\n",
    "    return TextBlob(\" \".join(df.columns))"
   ]
  },
  {
   "cell_type": "code",
   "execution_count": 34,
   "id": "b9e41e0c",
   "metadata": {},
   "outputs": [],
   "source": [
    "def get_word_pos_pairs(df:pd.DataFrame) -> list:\n",
    "    \"\"\" Given dataframe, returns all words (columns) and associated part of speech\"\"\"\n",
    "    #all_words = TextBlob(\" \".join(df.columns))\n",
    "    return get_text_blob(df).tags\n",
    "   # return all_words.tags"
   ]
  },
  {
   "cell_type": "code",
   "execution_count": 35,
   "id": "ae61ede2",
   "metadata": {},
   "outputs": [],
   "source": [
    "def get_pos_tag_list(df:pd.DataFrame) -> list:\n",
    "    \"\"\" Returns list of all unique parts of speech found in all words (columns) of a dataframe\"\"\"\n",
    "    word_tags = get_word_pos_pairs(df)\n",
    "    return list(set([tag[1] for tag in word_tags]))"
   ]
  },
  {
   "cell_type": "code",
   "execution_count": 36,
   "id": "8d709657",
   "metadata": {},
   "outputs": [],
   "source": [
    "def get_data_for_pos(df:pd.DataFrame, pos:str) -> pd.DataFrame:\n",
    "    \"\"\"Given a dataframe and part of speech, subsets dataframe to only include columns matching the pos\"\"\"\n",
    "    word_tags = get_word_pos_pairs(df)\n",
    "    chosen_pos = [tag[0] for tag in word_tags if tag[1] == pos]\n",
    "    return df.loc[:,df.columns.isin(chosen_pos)]"
   ]
  },
  {
   "cell_type": "code",
   "execution_count": 37,
   "metadata": {},
   "outputs": [
    {
     "output_type": "stream",
     "name": "stderr",
     "text": [
      "[nltk_data] Downloading package punkt to\n[nltk_data]     C:\\Users\\book2\\AppData\\Roaming\\nltk_data...\n[nltk_data]   Package punkt is already up-to-date!\n"
     ]
    },
    {
     "output_type": "execute_result",
     "data": {
      "text/plain": [
       "True"
      ]
     },
     "metadata": {},
     "execution_count": 37
    }
   ],
   "source": [
    "import nltk\n",
    "nltk.download('punkt')"
   ]
  },
  {
   "cell_type": "code",
   "execution_count": 38,
   "id": "fae09db6",
   "metadata": {
    "scrolled": true
   },
   "outputs": [
    {
     "output_type": "execute_result",
     "data": {
      "text/plain": [
       "                 build  coward  handle  think  keep  inculcate  disclose  \\\n",
       "Books                                                                      \n",
       "Buddhism             0       0       0      6     0          1         0   \n",
       "Eccleasiasticus      3       1       0      7    27          0         5   \n",
       "Ecclesiastes         1       0       0      1     5          0         0   \n",
       "Proverb              1       0       0      5    24          0         0   \n",
       "TaoTeChing           0       0       0      4    16          0         0   \n",
       "Upanishad            0       0       1     11     1          0         0   \n",
       "Wisdom               1       0       1      4     5          0         0   \n",
       "YogaSutra            5       0       2      7     4          0         0   \n",
       "\n",
       "                 feed  balance  rehearse  ...  influence  gaineth  tone  tank  \\\n",
       "Books                                     ...                                   \n",
       "Buddhism            0        0         0  ...          0        0     0     1   \n",
       "Eccleasiasticus     2        3         1  ...          0        0     0     0   \n",
       "Ecclesiastes        0        0         0  ...          0        0     0     0   \n",
       "Proverb             0        2         0  ...          0        1     0     0   \n",
       "TaoTeChing          0        0         0  ...          0        0     0     0   \n",
       "Upanishad           0        0         0  ...          1        0     0     0   \n",
       "Wisdom              1        1         0  ...          0        0     0     0   \n",
       "YogaSutra           0        1         0  ...          2        0     1     1   \n",
       "\n",
       "                 dathan  impose  realms  try  godlike  roar  \n",
       "Books                                                        \n",
       "Buddhism              0       0       0    0        0     0  \n",
       "Eccleasiasticus       1       0       0    4        0     1  \n",
       "Ecclesiastes          0       0       0    0        0     0  \n",
       "Proverb               0       0       0    0        0     0  \n",
       "TaoTeChing            0       0       0    3        0     0  \n",
       "Upanishad             0       0       5    2        1     0  \n",
       "Wisdom                0       0       0    2        0     0  \n",
       "YogaSutra             0       1       4    4        0     0  \n",
       "\n",
       "[8 rows x 51 columns]"
      ],
      "text/html": "<div>\n<style scoped>\n    .dataframe tbody tr th:only-of-type {\n        vertical-align: middle;\n    }\n\n    .dataframe tbody tr th {\n        vertical-align: top;\n    }\n\n    .dataframe thead th {\n        text-align: right;\n    }\n</style>\n<table border=\"1\" class=\"dataframe\">\n  <thead>\n    <tr style=\"text-align: right;\">\n      <th></th>\n      <th>build</th>\n      <th>coward</th>\n      <th>handle</th>\n      <th>think</th>\n      <th>keep</th>\n      <th>inculcate</th>\n      <th>disclose</th>\n      <th>feed</th>\n      <th>balance</th>\n      <th>rehearse</th>\n      <th>...</th>\n      <th>influence</th>\n      <th>gaineth</th>\n      <th>tone</th>\n      <th>tank</th>\n      <th>dathan</th>\n      <th>impose</th>\n      <th>realms</th>\n      <th>try</th>\n      <th>godlike</th>\n      <th>roar</th>\n    </tr>\n    <tr>\n      <th>Books</th>\n      <th></th>\n      <th></th>\n      <th></th>\n      <th></th>\n      <th></th>\n      <th></th>\n      <th></th>\n      <th></th>\n      <th></th>\n      <th></th>\n      <th></th>\n      <th></th>\n      <th></th>\n      <th></th>\n      <th></th>\n      <th></th>\n      <th></th>\n      <th></th>\n      <th></th>\n      <th></th>\n      <th></th>\n    </tr>\n  </thead>\n  <tbody>\n    <tr>\n      <th>Buddhism</th>\n      <td>0</td>\n      <td>0</td>\n      <td>0</td>\n      <td>6</td>\n      <td>0</td>\n      <td>1</td>\n      <td>0</td>\n      <td>0</td>\n      <td>0</td>\n      <td>0</td>\n      <td>...</td>\n      <td>0</td>\n      <td>0</td>\n      <td>0</td>\n      <td>1</td>\n      <td>0</td>\n      <td>0</td>\n      <td>0</td>\n      <td>0</td>\n      <td>0</td>\n      <td>0</td>\n    </tr>\n    <tr>\n      <th>Eccleasiasticus</th>\n      <td>3</td>\n      <td>1</td>\n      <td>0</td>\n      <td>7</td>\n      <td>27</td>\n      <td>0</td>\n      <td>5</td>\n      <td>2</td>\n      <td>3</td>\n      <td>1</td>\n      <td>...</td>\n      <td>0</td>\n      <td>0</td>\n      <td>0</td>\n      <td>0</td>\n      <td>1</td>\n      <td>0</td>\n      <td>0</td>\n      <td>4</td>\n      <td>0</td>\n      <td>1</td>\n    </tr>\n    <tr>\n      <th>Ecclesiastes</th>\n      <td>1</td>\n      <td>0</td>\n      <td>0</td>\n      <td>1</td>\n      <td>5</td>\n      <td>0</td>\n      <td>0</td>\n      <td>0</td>\n      <td>0</td>\n      <td>0</td>\n      <td>...</td>\n      <td>0</td>\n      <td>0</td>\n      <td>0</td>\n      <td>0</td>\n      <td>0</td>\n      <td>0</td>\n      <td>0</td>\n      <td>0</td>\n      <td>0</td>\n      <td>0</td>\n    </tr>\n    <tr>\n      <th>Proverb</th>\n      <td>1</td>\n      <td>0</td>\n      <td>0</td>\n      <td>5</td>\n      <td>24</td>\n      <td>0</td>\n      <td>0</td>\n      <td>0</td>\n      <td>2</td>\n      <td>0</td>\n      <td>...</td>\n      <td>0</td>\n      <td>1</td>\n      <td>0</td>\n      <td>0</td>\n      <td>0</td>\n      <td>0</td>\n      <td>0</td>\n      <td>0</td>\n      <td>0</td>\n      <td>0</td>\n    </tr>\n    <tr>\n      <th>TaoTeChing</th>\n      <td>0</td>\n      <td>0</td>\n      <td>0</td>\n      <td>4</td>\n      <td>16</td>\n      <td>0</td>\n      <td>0</td>\n      <td>0</td>\n      <td>0</td>\n      <td>0</td>\n      <td>...</td>\n      <td>0</td>\n      <td>0</td>\n      <td>0</td>\n      <td>0</td>\n      <td>0</td>\n      <td>0</td>\n      <td>0</td>\n      <td>3</td>\n      <td>0</td>\n      <td>0</td>\n    </tr>\n    <tr>\n      <th>Upanishad</th>\n      <td>0</td>\n      <td>0</td>\n      <td>1</td>\n      <td>11</td>\n      <td>1</td>\n      <td>0</td>\n      <td>0</td>\n      <td>0</td>\n      <td>0</td>\n      <td>0</td>\n      <td>...</td>\n      <td>1</td>\n      <td>0</td>\n      <td>0</td>\n      <td>0</td>\n      <td>0</td>\n      <td>0</td>\n      <td>5</td>\n      <td>2</td>\n      <td>1</td>\n      <td>0</td>\n    </tr>\n    <tr>\n      <th>Wisdom</th>\n      <td>1</td>\n      <td>0</td>\n      <td>1</td>\n      <td>4</td>\n      <td>5</td>\n      <td>0</td>\n      <td>0</td>\n      <td>1</td>\n      <td>1</td>\n      <td>0</td>\n      <td>...</td>\n      <td>0</td>\n      <td>0</td>\n      <td>0</td>\n      <td>0</td>\n      <td>0</td>\n      <td>0</td>\n      <td>0</td>\n      <td>2</td>\n      <td>0</td>\n      <td>0</td>\n    </tr>\n    <tr>\n      <th>YogaSutra</th>\n      <td>5</td>\n      <td>0</td>\n      <td>2</td>\n      <td>7</td>\n      <td>4</td>\n      <td>0</td>\n      <td>0</td>\n      <td>0</td>\n      <td>1</td>\n      <td>0</td>\n      <td>...</td>\n      <td>2</td>\n      <td>0</td>\n      <td>1</td>\n      <td>1</td>\n      <td>0</td>\n      <td>1</td>\n      <td>4</td>\n      <td>4</td>\n      <td>0</td>\n      <td>0</td>\n    </tr>\n  </tbody>\n</table>\n<p>8 rows × 51 columns</p>\n</div>"
     },
     "metadata": {},
     "execution_count": 38
    }
   ],
   "source": [
    "get_data_for_pos(books, 'VB') # Example run retreiving all basic verbs"
   ]
  },
  {
   "cell_type": "markdown",
   "id": "6a3274b0",
   "metadata": {},
   "source": [
    "### Crude TF-IDF Analysis"
   ]
  },
  {
   "cell_type": "code",
   "execution_count": 39,
   "id": "51efc696",
   "metadata": {},
   "outputs": [],
   "source": [
    "# Generate text blobs for each book (text blob being a string of all present words in book)\n",
    "book_blobs = [get_text_blob(book) for book in dataframes.values()]"
   ]
  },
  {
   "cell_type": "code",
   "execution_count": 40,
   "id": "0d02cd02",
   "metadata": {},
   "outputs": [],
   "source": [
    "def tf(word:str, df: pd.DataFrame) -> float:\n",
    "    \"\"\" Generate term refrequency of a word in a dataframe's columns\"\"\"\n",
    "    blob = get_text_blob(df)\n",
    "    return df.get('spiritual').sum() /len(blob.words)"
   ]
  },
  {
   "cell_type": "code",
   "execution_count": 41,
   "id": "bbc777e3",
   "metadata": {},
   "outputs": [],
   "source": [
    "def n_containing(word: str, blobs: list) -> int:\n",
    "    \"\"\"Return number of books in list containing specific word\"\"\"\n",
    "    return sum(1 for blob in blobs if word in blob)"
   ]
  },
  {
   "cell_type": "code",
   "execution_count": 42,
   "id": "2fefb484",
   "metadata": {},
   "outputs": [],
   "source": [
    "def idf(word: str, blobs: list):\n",
    "    \"\"\" Calculate inverse doc frequency of word in list of documents\"\"\"\n",
    "    x = n_containing(word, blobs)\n",
    "    return math.log(len(blobs) / (x if x else 1))"
   ]
  },
  {
   "cell_type": "code",
   "execution_count": 43,
   "id": "0c374432",
   "metadata": {},
   "outputs": [],
   "source": [
    "def tf_idf(word: str, df: pd.DataFrame, blobs = book_blobs) -> float:\n",
    "    return tf(word, df) * idf(word, blobs)"
   ]
  },
  {
   "cell_type": "code",
   "execution_count": 44,
   "id": "6557a0e5",
   "metadata": {},
   "outputs": [
    {
     "output_type": "execute_result",
     "data": {
      "text/plain": [
       "0.012202076694290822"
      ]
     },
     "metadata": {},
     "execution_count": 44
    }
   ],
   "source": [
    "tf_idf('shall', yoga_sutra)"
   ]
  },
  {
   "source": [
    " Possible follow up: Naive Baise or Random Forest \n",
    " Source: https://medium.com/@tenzin_ngodup/simple-text-classification-using-random-forest-fe230be1e857 "
   ],
   "cell_type": "markdown",
   "metadata": {}
  },
  {
   "cell_type": "code",
   "execution_count": 103,
   "metadata": {
    "tags": []
   },
   "outputs": [],
   "source": [
    "from sklearn.feature_extraction.text import CountVectorizer \n",
    "from sklearn.ensemble import RandomForestClassifier\n",
    "from sklearn import datasets \n"
   ]
  },
  {
   "cell_type": "code",
   "execution_count": 129,
   "metadata": {},
   "outputs": [],
   "source": [
    "def get_string_lst(df):\n",
    "    return df.multiply(df.columns+' ', axis=1).sum(axis=1)"
   ]
  },
  {
   "cell_type": "code",
   "execution_count": null,
   "metadata": {},
   "outputs": [],
   "source": [
    "def rando_forest(df): \n",
    "    corpus = df.groupby(by_book).sum().reset_index().rename(columns={'Chapters':'Books'}).set_index('Books')\n",
    "    Y = df.columns "
   ]
  },
  {
   "cell_type": "code",
   "execution_count": 138,
   "metadata": {},
   "outputs": [
    {
     "output_type": "execute_result",
     "data": {
      "text/plain": [
       "Books\n",
       "Buddhism           feelings feelings feelings feelings feelings f...\n",
       "Eccleasiasticus    hath hath hath hath hath hath hath hath hath h...\n",
       "Ecclesiastes       hath hath hath hath hath hath hath hath hath h...\n",
       "Proverb            foolishness foolishness hath hath hath hath ha...\n",
       "TaoTeChing         anger open open rage nursingmother tell neithe...\n",
       "Upanishad          anger anger anger vaivaswata kindled rushed ru...\n",
       "Wisdom             hath hath hath hath hath hath hath hath hath h...\n",
       "YogaSutra          hath hath wholesome matrix revelation revelati...\n",
       "dtype: object"
      ]
     },
     "metadata": {},
     "execution_count": 138
    }
   ],
   "source": [
    "corpus = get_string_lst(books)\n",
    "Y = books.T.columns\n",
    "corpus"
   ]
  },
  {
   "cell_type": "code",
   "execution_count": 143,
   "metadata": {},
   "outputs": [],
   "source": [
    "Y = np.arange(len(Y))"
   ]
  },
  {
   "cell_type": "code",
   "execution_count": 144,
   "metadata": {},
   "outputs": [
    {
     "output_type": "execute_result",
     "data": {
      "text/plain": [
       "array([[0, 2, 5, ..., 0, 0, 0],\n",
       "       [5, 0, 0, ..., 0, 1, 2],\n",
       "       [0, 0, 0, ..., 0, 1, 0],\n",
       "       ...,\n",
       "       [0, 0, 0, ..., 1, 0, 0],\n",
       "       [0, 0, 0, ..., 0, 1, 0],\n",
       "       [0, 0, 0, ..., 0, 0, 0]], dtype=int64)"
      ]
     },
     "metadata": {},
     "execution_count": 144
    }
   ],
   "source": [
    "vectorizer = CountVectorizer()\n",
    "X = vectorizer.fit_transform(corpus).toarray()\n",
    "X"
   ]
  },
  {
   "cell_type": "code",
   "execution_count": 145,
   "metadata": {},
   "outputs": [
    {
     "output_type": "execute_result",
     "data": {
      "text/plain": [
       "RandomForestClassifier()"
      ]
     },
     "metadata": {},
     "execution_count": 145
    }
   ],
   "source": [
    "clf = RandomForestClassifier()\n",
    "clf.fit(X, Y)"
   ]
  },
  {
   "cell_type": "code",
   "execution_count": 146,
   "metadata": {},
   "outputs": [
    {
     "output_type": "execute_result",
     "data": {
      "text/plain": [
       "0      open mentally mentally i affliction affliction...\n",
       "1      staying origination origination disenchantment...\n",
       "2      tell thus thus play play play play play short ...\n",
       "3      illumination origination origination originati...\n",
       "4      stressfulness stressfulness stressfulness stre...\n",
       "                             ...                        \n",
       "585    hath hath neither neither soft handle short be...\n",
       "586    rage neither neither land land remedy came cam...\n",
       "587    neither neither great great overtaken yielding...\n",
       "588    diadem neither land guest great came fears ask...\n",
       "589    lambs neither land land land great great came ...\n",
       "Length: 590, dtype: object"
      ]
     },
     "metadata": {},
     "execution_count": 146
    }
   ],
   "source": [
    "test = get_string_lst(test_data)\n",
    "test\n"
   ]
  },
  {
   "cell_type": "code",
   "execution_count": 147,
   "metadata": {},
   "outputs": [
    {
     "output_type": "execute_result",
     "data": {
      "text/plain": [
       "array([0, 0, 0, 2, 2, 0, 2, 2, 0, 2])"
      ]
     },
     "metadata": {},
     "execution_count": 147
    }
   ],
   "source": [
    "clf.predict(vectorizer.transform(test.iloc[:10]).toarray())"
   ]
  },
  {
   "cell_type": "code",
   "execution_count": null,
   "metadata": {},
   "outputs": [],
   "source": []
  }
 ],
 "metadata": {
  "kernelspec": {
   "name": "python385jvsc74a57bd0ecf5722fdaf1897a315d257d89d94520bfcaa453217d5becf09b39e73618b0de",
   "display_name": "Python 3.8.5 64-bit (conda)"
  },
  "language_info": {
   "codemirror_mode": {
    "name": "ipython",
    "version": 3
   },
   "file_extension": ".py",
   "mimetype": "text/x-python",
   "name": "python",
   "nbconvert_exporter": "python",
   "pygments_lexer": "ipython3",
   "version": "3.8.5-final"
  }
 },
 "nbformat": 4,
 "nbformat_minor": 5
}